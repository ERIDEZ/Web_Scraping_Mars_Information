{
 "cells": [
  {
   "cell_type": "markdown",
   "metadata": {},
   "source": [
    "# Mission to Mars - Scrapping - Erick Hernandez"
   ]
  },
  {
   "cell_type": "markdown",
   "metadata": {},
   "source": [
    "## Phase 1 - Defining operation"
   ]
  },
  {
   "cell_type": "code",
   "execution_count": null,
   "metadata": {},
   "outputs": [],
   "source": [
    "# Import of modules\n",
    "\n",
    "from splinter import Browser\n",
    "from bs4 import BeautifulSoup\n",
    "from webdriver_manager.chrome import ChromeDriverManager\n",
    "import requests\n",
    "import pandas as pd\n",
    "from selenium import webdriver"
   ]
  },
  {
   "cell_type": "code",
   "execution_count": null,
   "metadata": {},
   "outputs": [],
   "source": [
    "# Definition of browser\n",
    "\n",
    "def init_browser():\n",
    "    # @NOTE: Replace the path with your actual path to the chromedriver\n",
    "    executable_path = {\"executable_path\": ChromeDriverManager().install()}\n",
    "    return Browser(\"chrome\", **executable_path, headless=False)"
   ]
  },
  {
   "cell_type": "markdown",
   "metadata": {},
   "source": [
    "## Phase 2 - Scrapping of news title, description and date"
   ]
  },
  {
   "cell_type": "code",
   "execution_count": null,
   "metadata": {},
   "outputs": [],
   "source": [
    "def scrape_header():\n",
    "    browser = init_browser()\n",
    "\n",
    "    url = \"https://mars.nasa.gov/news/?page=0&per_page=40&order=publish_date+desc%2Ccreated_at+desc&search=&category=19%2C165%2C184%2C204&blank_scope=Latest\"\n",
    "    browser.visit(url)\n",
    "\n",
    "    html = browser.html\n",
    "    \n",
    "    soup = BeautifulSoup(html, \"html.parser\")\n",
    "    \n",
    "    headlines = soup(\"div\", class_=\"content_title\")\n",
    "    headlines = list(headlines)\n",
    "    \n",
    "    text = (headlines[1])\n",
    "    text = str(text)\n",
    "    text_slice = text.split('>')\n",
    "    my_header = text_slice[2]\n",
    "    my_header = my_header.replace(\"</a\", \"\")\n",
    "    \n",
    "    browser.quit()\n",
    "    \n",
    "    return my_header"
   ]
  },
  {
   "cell_type": "code",
   "execution_count": null,
   "metadata": {},
   "outputs": [],
   "source": [
    "# Preview\n",
    "\n",
    "print(scrape_header())"
   ]
  },
  {
   "cell_type": "code",
   "execution_count": null,
   "metadata": {},
   "outputs": [],
   "source": [
    "def scrape_desc():\n",
    "    browser = init_browser()\n",
    "\n",
    "    url = \"https://mars.nasa.gov/news/?page=0&per_page=40&order=publish_date+desc%2Ccreated_at+desc&search=&category=19%2C165%2C184%2C204&blank_scope=Latest\"\n",
    "    browser.visit(url)\n",
    "\n",
    "    html = browser.html\n",
    "    \n",
    "    soup = BeautifulSoup(html, \"html.parser\")\n",
    "\n",
    "    # Scrapping for description only\n",
    "    try:\n",
    "        my_desc = soup.find(\"div\", class_=\"article_teaser_body\").get_text()\n",
    "    except AttributeError:\n",
    "        my_desc = soup.find(\"div\", class_=\"article_teaser_body\")\n",
    "    except AttributeError:\n",
    "        my_desc = soup.find(\"div\", class_=\"article_teaser_body\").getText()\n",
    "\n",
    "    browser.quit()\n",
    "    \n",
    "    return my_desc"
   ]
  },
  {
   "cell_type": "code",
   "execution_count": null,
   "metadata": {},
   "outputs": [],
   "source": [
    "# Preview\n",
    "\n",
    "print(scrape_desc())"
   ]
  },
  {
   "cell_type": "markdown",
   "metadata": {},
   "source": [
    " ## Phase 3 - Scrapping of images"
   ]
  },
  {
   "cell_type": "code",
   "execution_count": null,
   "metadata": {},
   "outputs": [],
   "source": [
    "def image_scrape():\n",
    "    browser = init_browser()\n",
    "    \n",
    "    url = \"https://www.jpl.nasa.gov/spaceimages/?search=&category=Mars\"\n",
    "    browser.visit(url)\n",
    "    \n",
    "    html = browser.html\n",
    "    \n",
    "    soup = BeautifulSoup(html, 'html.parser')\n",
    "    \n",
    "    image = soup.find(\"a\", class_=\"button fancybox\").get('data-fancybox-href')\n",
    "    \n",
    "    browser.quit()\n",
    "        \n",
    "    return f'https://www.jpl.nasa.gov{image}'"
   ]
  },
  {
   "cell_type": "code",
   "execution_count": null,
   "metadata": {},
   "outputs": [],
   "source": [
    "# Preview\n",
    "\n",
    "print(image_scrape())"
   ]
  },
  {
   "cell_type": "markdown",
   "metadata": {},
   "source": [
    "## Phase 4 - Scrapping of Twitter"
   ]
  },
  {
   "cell_type": "code",
   "execution_count": null,
   "metadata": {},
   "outputs": [],
   "source": [
    "def tweet_scrape():\n",
    "    \n",
    "    browser = init_browser()\n",
    "    \n",
    "    url = \"https://twitter.com/MarsWxReport/\"\n",
    "    \n",
    "    browser.visit(url)\n",
    "    \n",
    "    browser.execute_script(\"window.scrollTo(1, document.body.scrollHeight);\")\n",
    "    \n",
    "    html = browser.html\n",
    "    \n",
    "    browser.quit()\n",
    "    \n",
    "    soup = BeautifulSoup(html, 'html.parser')\n",
    "    \n",
    "    tweet_list = soup.find_all(\"div\", class_=\"css-901oao\")\n",
    "    tweet_list = str(tweet_list)\n",
    "    \n",
    "    return tweet_list"
   ]
  },
  {
   "cell_type": "code",
   "execution_count": null,
   "metadata": {},
   "outputs": [],
   "source": [
    "print(tweet_scrape())"
   ]
  },
  {
   "cell_type": "markdown",
   "metadata": {},
   "source": [
    "## Phase 5 - Scrapping of Facts"
   ]
  },
  {
   "cell_type": "code",
   "execution_count": null,
   "metadata": {},
   "outputs": [],
   "source": [
    "def table_scrape():\n",
    "    \n",
    "    url = \"https://space-facts.com/mars/\"\n",
    " \n",
    "    tables = pd.read_html(url)\n",
    "\n",
    "    my_table = pd.DataFrame(tables[0])\n",
    "    \n",
    "    my_table = my_table.rename(columns={0: \"Facts\", 1: \"Data\"})\n",
    "    \n",
    "    my_table.set_index(\"Facts\")\n",
    "    \n",
    "    html_table = my_table.to_html()\n",
    "    \n",
    "    return html_table"
   ]
  },
  {
   "cell_type": "code",
   "execution_count": null,
   "metadata": {},
   "outputs": [],
   "source": [
    "# Preview\n",
    "\n",
    "table_scrape()"
   ]
  },
  {
   "cell_type": "markdown",
   "metadata": {},
   "source": [
    "## Phase 6 - Scrapping of hemispheres images"
   ]
  },
  {
   "cell_type": "code",
   "execution_count": null,
   "metadata": {},
   "outputs": [],
   "source": [
    "def cerberus():\n",
    "    browser = init_browser()\n",
    "    \n",
    "    url = \"https://astrogeology.usgs.gov/search/map/Mars/Viking/cerberus_enhanced\"\n",
    "    browser.visit(url)\n",
    "    \n",
    "    html = browser.html\n",
    "    \n",
    "    browser.quit()\n",
    "    \n",
    "    soup = BeautifulSoup(html, 'html.parser')\n",
    "    \n",
    "    cerberus_img = soup.find_all(\"div\", class_=\"downloads\")\n",
    "    cerberus_img = list(cerberus_img[0])\n",
    "    cerberus_img = cerberus_img[5]\n",
    "    cerberus_img = str(cerberus_img)\n",
    "    cerberus_img = cerberus_img.split('\"')\n",
    "    cerberus_img = list(cerberus_img)\n",
    "    cerberus_img = cerberus_img[1]\n",
    "    cerberus_img = str(cerberus_img)\n",
    "\n",
    "    return cerberus_img"
   ]
  },
  {
   "cell_type": "code",
   "execution_count": null,
   "metadata": {},
   "outputs": [],
   "source": [
    "print(cerberus())"
   ]
  },
  {
   "cell_type": "code",
   "execution_count": null,
   "metadata": {},
   "outputs": [],
   "source": [
    "def schiaparelli():\n",
    "    browser = init_browser()\n",
    "    \n",
    "    url = \"https://astrogeology.usgs.gov/search/map/Mars/Viking/schiaparelli_enhanced\"\n",
    "    browser.visit(url)\n",
    "    \n",
    "    html = browser.html\n",
    "    \n",
    "    browser.quit()\n",
    "    \n",
    "    soup = BeautifulSoup(html, 'html.parser')\n",
    "    \n",
    "    schiaparelli_img = soup.find_all(\"div\", class_=\"downloads\")\n",
    "    schiaparelli_img = list(schiaparelli_img[0])\n",
    "    schiaparelli_img = schiaparelli_img[5]\n",
    "    schiaparelli_img = str(schiaparelli_img)\n",
    "    schiaparelli_img = schiaparelli_img.split('\"')\n",
    "    schiaparelli_img = list(schiaparelli_img)\n",
    "    schiaparelli_img = schiaparelli_img[1]\n",
    "    schiaparelli_img = str(schiaparelli_img)\n",
    "    \n",
    "    return schiaparelli_img"
   ]
  },
  {
   "cell_type": "code",
   "execution_count": null,
   "metadata": {},
   "outputs": [],
   "source": [
    "print(schiaparelli())"
   ]
  },
  {
   "cell_type": "code",
   "execution_count": null,
   "metadata": {},
   "outputs": [],
   "source": [
    "def syrtis():\n",
    "    browser = init_browser()\n",
    "    \n",
    "    url = \"https://astrogeology.usgs.gov/search/map/Mars/Viking/syrtis_major_enhanced\"\n",
    "    browser.visit(url)\n",
    "    \n",
    "    html = browser.html\n",
    "    \n",
    "    \n",
    "    browser.quit()\n",
    "    \n",
    "    soup = BeautifulSoup(html, 'html.parser')\n",
    "    \n",
    "    syrtis_img = soup.find_all(\"div\", class_=\"downloads\")\n",
    "    syrtis_img = list(syrtis_img[0])\n",
    "    syrtis_img = syrtis_img[5]\n",
    "    syrtis_img = str(syrtis_img)\n",
    "    syrtis_img = syrtis_img.split('\"')\n",
    "    syrtis_img = list(syrtis_img)\n",
    "    syrtis_img = syrtis_img[1]\n",
    "    syrtis_img = str(syrtis_img)\n",
    "    \n",
    "    return syrtis_img"
   ]
  },
  {
   "cell_type": "code",
   "execution_count": null,
   "metadata": {},
   "outputs": [],
   "source": [
    "syrtis()"
   ]
  },
  {
   "cell_type": "code",
   "execution_count": null,
   "metadata": {},
   "outputs": [],
   "source": [
    "def valles_marineris():\n",
    "    browser = init_browser()\n",
    "    \n",
    "    url = \"https://astrogeology.usgs.gov/search/map/Mars/Viking/valles_marineris_enhanced\"\n",
    "    browser.visit(url)\n",
    "    \n",
    "    html = browser.html\n",
    "    \n",
    "    browser.quit()\n",
    "    \n",
    "    soup = BeautifulSoup(html, 'html.parser')\n",
    "    \n",
    "    marineris_img = soup.find_all(\"div\", class_=\"downloads\")\n",
    "    marineris_img = list(marineris_img[0])\n",
    "    marineris_img = marineris_img[5]\n",
    "    marineris_img = str(marineris_img)\n",
    "    marineris_img = marineris_img.split('\"')\n",
    "    marineris_img = list(marineris_img)\n",
    "    marineris_img = marineris_img[1]\n",
    "    marineris_img = str(marineris_img)\n",
    "    \n",
    "    return marineris_img"
   ]
  },
  {
   "cell_type": "code",
   "execution_count": null,
   "metadata": {},
   "outputs": [],
   "source": [
    "print(valles_marineris())"
   ]
  },
  {
   "cell_type": "code",
   "execution_count": null,
   "metadata": {},
   "outputs": [],
   "source": [
    "# Dictionary for Hemispheres"
   ]
  },
  {
   "cell_type": "code",
   "execution_count": null,
   "metadata": {},
   "outputs": [],
   "source": [
    "marineris_dict = {\"title\": \"Valles Marineris Hemisphere\", \"img_url\": valles_marineris()}\n",
    "cerberus_dict = {\"title\": \"Cerberus Hemisphere\", \"img_url\": cerberus()}\n",
    "schiaparelli_dict = {\"title\": \"Schiaparelli Hemisphere\", \"img_url\": schiaparelli()}\n",
    "syrtis_dict = {\"title\": \"Syrtis Major Hemisphere\", \"img_url\": syrtis()}\n",
    "    "
   ]
  },
  {
   "cell_type": "code",
   "execution_count": null,
   "metadata": {},
   "outputs": [],
   "source": [
    "hemispheres_list = [marineris_dict, cerberus_dict, schiaparelli_dict, syrtis_dict]"
   ]
  },
  {
   "cell_type": "code",
   "execution_count": null,
   "metadata": {},
   "outputs": [],
   "source": [
    "hemispheres_list"
   ]
  },
  {
   "cell_type": "code",
   "execution_count": null,
   "metadata": {},
   "outputs": [],
   "source": []
  }
 ],
 "metadata": {
  "kernelspec": {
   "display_name": "Python 3",
   "language": "python",
   "name": "python3"
  },
  "language_info": {
   "codemirror_mode": {
    "name": "ipython",
    "version": 3
   },
   "file_extension": ".py",
   "mimetype": "text/x-python",
   "name": "python",
   "nbconvert_exporter": "python",
   "pygments_lexer": "ipython3",
   "version": "3.8.3"
  }
 },
 "nbformat": 4,
 "nbformat_minor": 4
}
